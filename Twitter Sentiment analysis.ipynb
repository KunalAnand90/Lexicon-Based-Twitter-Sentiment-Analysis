{
 "cells": [
  {
   "cell_type": "code",
   "execution_count": 1,
   "metadata": {},
   "outputs": [],
   "source": [
    "import tweepy\n",
    "from textblob import TextBlob\n"
   ]
  },
  {
   "cell_type": "code",
   "execution_count": 7,
   "metadata": {},
   "outputs": [],
   "source": [
    "consumer_key = \"DEZEhvB7N4nC5Q6g4yrS4ReN8\"\n",
    "\n",
    "consumer_key_secret = \"stIDlTgQYN7xF9qmMxPBeZy08xqkXmIoMgHGWMO6gpGZTh8XND\"\n",
    "\n",
    "access_token = \"269361320-pc4R6wnSWPFO3yJ30uWeUZyhpIkDRPBjVjKgKGpb\"\n",
    "\n",
    "access_token_secret = \"f4AOvTRrs0EwndMqfLQdgJLhNRgoxYXDAA7vlNWle8awt\""
   ]
  },
  {
   "cell_type": "code",
   "execution_count": 8,
   "metadata": {},
   "outputs": [],
   "source": [
    "auth = tweepy.OAuthHandler(consumer_key, consumer_key_secret)\n",
    "\n",
    "auth.set_access_token(access_token, access_token_secret)\n",
    "\n",
    "api = tweepy.API(auth)"
   ]
  },
  {
   "cell_type": "code",
   "execution_count": 19,
   "metadata": {},
   "outputs": [],
   "source": [
    "public_tweets = api.search(\"modi\")"
   ]
  },
  {
   "cell_type": "code",
   "execution_count": 20,
   "metadata": {},
   "outputs": [
    {
     "name": "stdout",
     "output_type": "stream",
     "text": [
      "RT @VishweshwarBhat: Next to Modi, only Chakravarty Sulibele is addressing Public rallies for BJP. \n",
      "\n",
      "And \n",
      "\n",
      "Next to Modi, people assemble in…\n",
      "Sentiment(polarity=0.0, subjectivity=0.26666666666666666)\n",
      "Neutral\n",
      "RT @rupagulab: Congress alleges? Grow a spine, @indianexpress!!!PM Modi acted as middleman for Anil Ambani, Congress alleges after Le Monde…\n",
      "Sentiment(polarity=0.0, subjectivity=0.0)\n",
      "Neutral\n",
      "RT @BJP4India: We are committed to balanced development of Assam. \n",
      "\n",
      "We have worked on improving the connectivity of Assam. \n",
      "\n",
      "The work is in…\n",
      "Sentiment(polarity=0.0, subjectivity=0.0)\n",
      "Neutral\n",
      "RT @yogi_arwind: PM Narendra Modi travelled more than 20,000 KM conducting about 25 public rallies during the #Navratri. And these nine day…\n",
      "Sentiment(polarity=0.25, subjectivity=0.2833333333333333)\n",
      "Positive\n",
      "RT @mano7894409636: Good going sir\n",
      "We want to see you again as MP of kendrapara. Please also visit KORO panchayat  for influencing people.…\n",
      "Sentiment(polarity=0.7, subjectivity=0.6000000000000001)\n",
      "Positive\n",
      "RT @ANI: #WATCH MP: Ex-Mizoram Guv Aziz Qureshi speaks on Pulwama attack&amp;PM, says \"Plan karke aapne ye karwaya taki apko mauka mile, lekin…\n",
      "Sentiment(polarity=0.0, subjectivity=0.0)\n",
      "Neutral\n",
      "RT @SrArvindKumar: Our loving and Hon'ble and Respectful  Prime Minister Narendra Modi performed Bhumi Pujan at Kashi Vishwanath Temple. Se…\n",
      "Sentiment(polarity=0.55, subjectivity=0.825)\n",
      "Positive\n",
      "RT @yogi_arwind: PM Narendra Modi travelled more than 20,000 KM conducting about 25 public rallies during the #Navratri. And these nine day…\n",
      "Sentiment(polarity=0.25, subjectivity=0.2833333333333333)\n",
      "Positive\n",
      "RT @VishweshwarBhat: Next to Modi, only Chakravarty Sulibele is addressing Public rallies for BJP. \n",
      "\n",
      "And \n",
      "\n",
      "Next to Modi, people assemble in…\n",
      "Sentiment(polarity=0.0, subjectivity=0.26666666666666666)\n",
      "Neutral\n",
      "RT @sachinsingh1010: 75 year old Govindraj killed for praising #Modi,incident took place near a Orthanadu village in Tanjore, #TamilNadu\n",
      "#G…\n",
      "Sentiment(polarity=0.0, subjectivity=0.20000000000000004)\n",
      "Neutral\n",
      "RT @sachinsingh1010: 75 year old Govindraj killed for praising #Modi,incident took place near a Orthanadu village in Tanjore, #TamilNadu\n",
      "#G…\n",
      "Sentiment(polarity=0.0, subjectivity=0.20000000000000004)\n",
      "Neutral\n",
      "RT @Cow__Momma: NRIs living in secular, inclusive countries who are cheerleading for Modi are the worst kind of scum India has produced.\n",
      "Sentiment(polarity=-0.2333333333333333, subjectivity=0.7666666666666666)\n",
      "Negative\n"
     ]
    }
   ],
   "source": [
    "for tweet in public_tweets:\n",
    "    print(tweet.text)\n",
    "    analysis = TextBlob(tweet.text)\n",
    "    print(analysis.sentiment)\n",
    "    if analysis.sentiment[0]>0:\n",
    "       print ('Positive')\n",
    "    elif analysis.sentiment[0]<0:\n",
    "       print ('Negative')\n",
    "    else:\n",
    "       print ('Neutral')"
   ]
  },
  {
   "cell_type": "code",
   "execution_count": null,
   "metadata": {},
   "outputs": [],
   "source": []
  }
 ],
 "metadata": {
  "kernelspec": {
   "display_name": "Python 3",
   "language": "python",
   "name": "python3"
  },
  "language_info": {
   "codemirror_mode": {
    "name": "ipython",
    "version": 3
   },
   "file_extension": ".py",
   "mimetype": "text/x-python",
   "name": "python",
   "nbconvert_exporter": "python",
   "pygments_lexer": "ipython3",
   "version": "3.7.3"
  }
 },
 "nbformat": 4,
 "nbformat_minor": 2
}
